{
 "cells": [
  {
   "cell_type": "markdown",
   "id": "fe43ed5b",
   "metadata": {},
   "source": [
    "# Logica de programção\n",
    "---\n",
    "## Condicionais"
   ]
  },
  {
   "cell_type": "code",
   "execution_count": 3,
   "id": "d4af3fd1",
   "metadata": {},
   "outputs": [
    {
     "name": "stdout",
     "output_type": "stream",
     "text": [
      "Voce é maior de idade\n"
     ]
    }
   ],
   "source": [
    "idade = 25\n",
    "\n",
    "if idade >= 18:\n",
    "    print('Voce é maior de idade')\n",
    "else:\n",
    "    print('Você não é maior de idade')"
   ]
  },
  {
   "cell_type": "code",
   "execution_count": 7,
   "id": "b59100e7",
   "metadata": {},
   "outputs": [
    {
     "name": "stdout",
     "output_type": "stream",
     "text": [
      "Maior de idade\n"
     ]
    }
   ],
   "source": [
    "# Condição encadeada\n",
    "idade = 21\n",
    "\n",
    "if idade < 0:\n",
    "    print('Idade invalida')\n",
    "elif idade >= 18:\n",
    "    print('Maior de idade')\n",
    "else:\n",
    "    print('Você não é maior de idade')\n"
   ]
  },
  {
   "cell_type": "code",
   "execution_count": 13,
   "id": "82ca47f4",
   "metadata": {},
   "outputs": [
    {
     "name": "stdout",
     "output_type": "stream",
     "text": [
      "idade invalida\n"
     ]
    }
   ],
   "source": [
    "# Maiores de idade podem assitir o filme\n",
    "# menores de idade com 16 ou mais podem desde que estejam acompanhadas\n",
    "# menores de idade abaixo de 16 não podem assistir, mesmo acompanhadas\n",
    "\n",
    "idade = -16\n",
    "\n",
    "if idade >= 18:\n",
    "    print('Você pode assitir')\n",
    "elif idade < 18 and idade >= 16:\n",
    "    acompanhada = input('Esta companhado(a)? sim/não')\n",
    "    if acompanhada != 'sim':\n",
    "        print('você não pode assistir desacompanhado(a)')\n",
    "    else:\n",
    "        print('você pode assistir pois esta acompanhado')\n",
    "elif idade < 16 and  idade > 0:\n",
    "    print('Você não pode assistir esse filme')\n",
    "else:\n",
    "    print('idade invalida') "
   ]
  },
  {
   "cell_type": "markdown",
   "id": "dc513d64",
   "metadata": {},
   "source": [
    "## MATCH CASE"
   ]
  },
  {
   "cell_type": "code",
   "execution_count": null,
   "id": "49004dc5",
   "metadata": {},
   "outputs": [
    {
     "name": "stdout",
     "output_type": "stream",
     "text": [
      "1 - batata\n",
      "2 - refrigerente\n",
      "3 - humburguer\n",
      "4 - Trio completo\n",
      "você é um idiota\n"
     ]
    }
   ],
   "source": [
    "# selecionar o pedido e a forma de pagamento\n",
    "\n",
    "print('1 - batata')\n",
    "print('2 - refrigerente')\n",
    "print('3 - humburguer')\n",
    "print('4 - Trio completo')\n",
    "\n",
    "opcao = int(input('O que deseja?'))\n",
    "\n",
    "match opcao:\n",
    "    case 1:\n",
    "        print('você selecionou batata')\n",
    "    case 2:\n",
    "        print('você selecionou refrigerante')\n",
    "    case 3:\n",
    "        print('você selecionou humburguer')\n",
    "    case 4:\n",
    "        print('você selecionou o trio completo')\n",
    "    case _:\n",
    "        print('opção invalida')\n"
   ]
  },
  {
   "cell_type": "markdown",
   "id": "4cf5875f",
   "metadata": {},
   "source": [
    "## Loop for e while"
   ]
  },
  {
   "cell_type": "code",
   "execution_count": 18,
   "id": "bb9d5ea0",
   "metadata": {},
   "outputs": [
    {
     "name": "stdout",
     "output_type": "stream",
     "text": [
      "0\n",
      "1\n",
      "2\n",
      "3\n",
      "4\n"
     ]
    }
   ],
   "source": [
    "for numero in range(5):\n",
    "    print(numero)\n"
   ]
  },
  {
   "cell_type": "code",
   "execution_count": 23,
   "id": "dc9848c1",
   "metadata": {},
   "outputs": [
    {
     "name": "stdout",
     "output_type": "stream",
     "text": [
      "banana\n",
      "maça\n",
      "uva\n",
      "cereja\n"
     ]
    }
   ],
   "source": [
    "## percorrendo listas\n",
    "\n",
    "frutas = ['banana', 'maça', 'uva', 'cereja']\n",
    "\n",
    "for fruta in frutas:\n",
    "    print(fruta)"
   ]
  }
 ],
 "metadata": {
  "kernelspec": {
   "display_name": ".venv",
   "language": "python",
   "name": "python3"
  },
  "language_info": {
   "codemirror_mode": {
    "name": "ipython",
    "version": 3
   },
   "file_extension": ".py",
   "mimetype": "text/x-python",
   "name": "python",
   "nbconvert_exporter": "python",
   "pygments_lexer": "ipython3",
   "version": "3.12.10"
  }
 },
 "nbformat": 4,
 "nbformat_minor": 5
}
