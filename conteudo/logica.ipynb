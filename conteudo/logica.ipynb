{
 "cells": [
  {
   "cell_type": "markdown",
   "id": "fe43ed5b",
   "metadata": {},
   "source": [
    "# Logica de programção\n",
    "---\n",
    "## Condicionais"
   ]
  },
  {
   "cell_type": "code",
   "execution_count": 3,
   "id": "d4af3fd1",
   "metadata": {},
   "outputs": [
    {
     "name": "stdout",
     "output_type": "stream",
     "text": [
      "Voce é maior de idade\n"
     ]
    }
   ],
   "source": [
    "idade = 25\n",
    "\n",
    "if idade >= 18:\n",
    "    print('Voce é maior de idade')\n",
    "else:\n",
    "    print('Você não é maior de idade')"
   ]
  },
  {
   "cell_type": "code",
   "execution_count": 7,
   "id": "b59100e7",
   "metadata": {},
   "outputs": [
    {
     "name": "stdout",
     "output_type": "stream",
     "text": [
      "Maior de idade\n"
     ]
    }
   ],
   "source": [
    "# Condição encadeada\n",
    "idade = 21\n",
    "\n",
    "if idade < 0:\n",
    "    print('Idade invalida')\n",
    "elif idade >= 18:\n",
    "    print('Maior de idade')\n",
    "else:\n",
    "    print('Você não é maior de idade')\n"
   ]
  },
  {
   "cell_type": "code",
   "execution_count": 13,
   "id": "82ca47f4",
   "metadata": {},
   "outputs": [
    {
     "name": "stdout",
     "output_type": "stream",
     "text": [
      "idade invalida\n"
     ]
    }
   ],
   "source": [
    "# Maiores de idade podem assitir o filme\n",
    "# menores de idade com 16 ou mais podem desde que estejam acompanhadas\n",
    "# menores de idade abaixo de 16 não podem assistir, mesmo acompanhadas\n",
    "\n",
    "idade = -16\n",
    "\n",
    "if idade >= 18:\n",
    "    print('Você pode assitir')\n",
    "elif idade < 18 and idade >= 16:\n",
    "    acompanhada = input('Esta companhado(a)? sim/não')\n",
    "    if acompanhada != 'sim':\n",
    "        print('você não pode assistir desacompanhado(a)')\n",
    "    else:\n",
    "        print('você pode assistir pois esta acompanhado')\n",
    "elif idade < 16 and  idade > 0:\n",
    "    print('Você não pode assistir esse filme')\n",
    "else:\n",
    "    print('idade invalida') "
   ]
  },
  {
   "cell_type": "markdown",
   "id": "dc513d64",
   "metadata": {},
   "source": [
    "## MATCH CASE"
   ]
  },
  {
   "cell_type": "code",
   "execution_count": null,
   "id": "49004dc5",
   "metadata": {},
   "outputs": [
    {
     "name": "stdout",
     "output_type": "stream",
     "text": [
      "1 - batata\n",
      "2 - refrigerente\n",
      "3 - humburguer\n",
      "4 - Trio completo\n",
      "você é um idiota\n"
     ]
    }
   ],
   "source": [
    "# selecionar o pedido e a forma de pagamento\n",
    "\n",
    "print('1 - batata')\n",
    "print('2 - refrigerente')\n",
    "print('3 - humburguer')\n",
    "print('4 - Trio completo')\n",
    "\n",
    "opcao = int(input('O que deseja?'))\n",
    "\n",
    "match opcao:\n",
    "    case 1:\n",
    "        print('você selecionou batata')\n",
    "    case 2:\n",
    "        print('você selecionou refrigerante')\n",
    "    case 3:\n",
    "        print('você selecionou humburguer')\n",
    "    case 4:\n",
    "        print('você selecionou o trio completo')\n",
    "    case _:\n",
    "        print('opção invalida')\n"
   ]
  },
  {
   "cell_type": "markdown",
   "id": "4cf5875f",
   "metadata": {},
   "source": [
    "## Loop for e while"
   ]
  },
  {
   "cell_type": "code",
   "execution_count": 1,
   "id": "7cc69f93",
   "metadata": {},
   "outputs": [
    {
     "name": "stdout",
     "output_type": "stream",
     "text": [
      "0\n",
      "1\n",
      "2\n",
      "3\n",
      "4\n"
     ]
    }
   ],
   "source": [
    "for numero in range(5):\n",
    "    print(numero)"
   ]
  },
  {
   "cell_type": "code",
   "execution_count": null,
   "id": "304b447b",
   "metadata": {},
   "outputs": [
    {
     "name": "stdout",
     "output_type": "stream",
     "text": [
      "abacaxi\n"
     ]
    }
   ],
   "source": [
    "# printando item expecifico por endereço\n",
    "\n",
    "frutas = ['uva', 'maçã', 'goiaba', 'abacaxi', 'morango']\n",
    "\n",
    "print(frutas[3])"
   ]
  },
  {
   "cell_type": "code",
   "execution_count": 9,
   "id": "37c87278",
   "metadata": {},
   "outputs": [
    {
     "name": "stdout",
     "output_type": "stream",
     "text": [
      "uva\n",
      "maçã\n",
      "goiaba\n",
      "abacaxi\n",
      "morango\n"
     ]
    }
   ],
   "source": [
    "for fruta in frutas:\n",
    "    print(fruta)"
   ]
  },
  {
   "cell_type": "code",
   "execution_count": 10,
   "id": "1d76ad15",
   "metadata": {},
   "outputs": [],
   "source": [
    "# WHILE (ENQUANTO)\n",
    "resposta = ''\n",
    "\n",
    "while resposta != 'sim':\n",
    "    resposta = input('Já chegou?')"
   ]
  },
  {
   "cell_type": "code",
   "execution_count": null,
   "id": "8cfd4850",
   "metadata": {},
   "outputs": [],
   "source": [
    "# Laço de repetição infinito\n",
    "\n",
    "while True:\n",
    "    print('Luciano')"
   ]
  },
  {
   "cell_type": "markdown",
   "id": "8a871bf0",
   "metadata": {},
   "source": [
    "## Lista"
   ]
  },
  {
   "cell_type": "code",
   "execution_count": 30,
   "id": "5b89a0bd",
   "metadata": {},
   "outputs": [
    {
     "name": "stdout",
     "output_type": "stream",
     "text": [
      "['Yoga', 'Ikky', 'Seya', 'Shiryu']\n"
     ]
    }
   ],
   "source": [
    "cavaleiros = ['Yoga', 'Ikky', 'Seya', 'Shiryu']\n",
    "\n",
    "print(cavaleiros)"
   ]
  },
  {
   "cell_type": "code",
   "execution_count": 31,
   "id": "9329fc17",
   "metadata": {},
   "outputs": [
    {
     "name": "stdout",
     "output_type": "stream",
     "text": [
      "['Yoga', 'Ikky', 'Saint Seya', 'Shiryu']\n"
     ]
    }
   ],
   "source": [
    "cavaleiros[2] = 'Saint Seya'\n",
    "print(cavaleiros)"
   ]
  },
  {
   "cell_type": "code",
   "execution_count": 18,
   "id": "498db152",
   "metadata": {},
   "outputs": [
    {
     "name": "stdout",
     "output_type": "stream",
     "text": [
      "['Yoga', 'Seya', 'Shiryu', 'Shun']\n"
     ]
    }
   ],
   "source": [
    "# Acrescentando item em lista\n",
    "cavaleiros.append('Shun')\n",
    "\n",
    "print(cavaleiros)"
   ]
  },
  {
   "cell_type": "code",
   "execution_count": 19,
   "id": "08bdf7c6",
   "metadata": {},
   "outputs": [
    {
     "name": "stdout",
     "output_type": "stream",
     "text": [
      "['Yoga', 'Shiryu', 'Shun']\n"
     ]
    }
   ],
   "source": [
    "# Removendo item de uma lista\n",
    "\n",
    "cavaleiros.pop(1)\n",
    "print(cavaleiros)"
   ]
  },
  {
   "cell_type": "code",
   "execution_count": 20,
   "id": "43fb3a71",
   "metadata": {},
   "outputs": [
    {
     "name": "stdout",
     "output_type": "stream",
     "text": [
      "[]\n"
     ]
    }
   ],
   "source": [
    "cavaleiros.clear()\n",
    "print(cavaleiros)"
   ]
  },
  {
   "cell_type": "code",
   "execution_count": 21,
   "id": "d2330bc3",
   "metadata": {},
   "outputs": [
    {
     "ename": "NameError",
     "evalue": "name 'cavaleiros' is not defined",
     "output_type": "error",
     "traceback": [
      "\u001b[31m---------------------------------------------------------------------------\u001b[39m",
      "\u001b[31mNameError\u001b[39m                                 Traceback (most recent call last)",
      "\u001b[36mCell\u001b[39m\u001b[36m \u001b[39m\u001b[32mIn[21]\u001b[39m\u001b[32m, line 3\u001b[39m\n\u001b[32m      1\u001b[39m \u001b[38;5;28;01mdel\u001b[39;00m cavaleiros\n\u001b[32m----> \u001b[39m\u001b[32m3\u001b[39m \u001b[38;5;28mprint\u001b[39m(\u001b[43mcavaleiros\u001b[49m)\n",
      "\u001b[31mNameError\u001b[39m: name 'cavaleiros' is not defined"
     ]
    }
   ],
   "source": [
    "del cavaleiros\n",
    "\n",
    "print(cavaleiros)"
   ]
  },
  {
   "cell_type": "code",
   "execution_count": 22,
   "id": "55a1b7cd",
   "metadata": {},
   "outputs": [],
   "source": [
    "# DICINOARIOS\n",
    "\n",
    "pessoa = { \n",
    "    'nome':'Luciano',\n",
    "    'idade':31,\n",
    "    'cpf':'111.111.111-11',\n",
    "    'profissao': 'idiota'\n",
    "}"
   ]
  },
  {
   "cell_type": "code",
   "execution_count": 23,
   "id": "45c17b38",
   "metadata": {},
   "outputs": [
    {
     "name": "stdout",
     "output_type": "stream",
     "text": [
      "<class 'dict'>\n"
     ]
    }
   ],
   "source": [
    "# visualizando o tipo de variavel\n",
    "print(type(pessoa))"
   ]
  },
  {
   "cell_type": "code",
   "execution_count": 25,
   "id": "7168f5bb",
   "metadata": {},
   "outputs": [
    {
     "name": "stdout",
     "output_type": "stream",
     "text": [
      "dict_keys(['nome', 'idade', 'cpf', 'profissao'])\n"
     ]
    }
   ],
   "source": [
    "# visualizando propriedades do dicionarios (KEYS)\n",
    "print(pessoa.keys())"
   ]
  },
  {
   "cell_type": "code",
   "execution_count": 26,
   "id": "8ce9eb8d",
   "metadata": {},
   "outputs": [
    {
     "name": "stdout",
     "output_type": "stream",
     "text": [
      "dict_values(['Luciano', 31, '111.111.111-11', 'idiota'])\n"
     ]
    }
   ],
   "source": [
    "print(pessoa.values())"
   ]
  },
  {
   "cell_type": "code",
   "execution_count": 32,
   "id": "e0e9fbf5",
   "metadata": {},
   "outputs": [
    {
     "name": "stdout",
     "output_type": "stream",
     "text": [
      "dict_items([('nome', 'Luciano'), ('idade', 31), ('cpf', '111.111.111-11'), ('profissao', 'idiota')])\n",
      "('nome', 'Luciano')\n",
      "('idade', 31)\n",
      "('cpf', '111.111.111-11')\n",
      "('profissao', 'idiota')\n"
     ]
    }
   ],
   "source": [
    "print(pessoa.items())\n",
    "\n",
    "\n",
    "for item in pessoa.items():\n",
    "    print(item)\n"
   ]
  },
  {
   "cell_type": "code",
   "execution_count": 34,
   "id": "e2ad9a82",
   "metadata": {},
   "outputs": [
    {
     "name": "stdout",
     "output_type": "stream",
     "text": [
      "Tio Lu\n"
     ]
    }
   ],
   "source": [
    "pessoa['nome'] = 'Tio Lu'\n",
    "\n",
    "print(pessoa['nome'])"
   ]
  },
  {
   "cell_type": "code",
   "execution_count": 40,
   "id": "f0d6efaa",
   "metadata": {},
   "outputs": [],
   "source": [
    "professores = [\n",
    "    {\n",
    "        'nome':'Luciano',\n",
    "        'matricula':123,\n",
    "        'disciplina':['Logica de programação 5', 'bd1', 'bd2']\n",
    "    },\n",
    "    {\n",
    "        'nome':'Daniel',\n",
    "        'matricula':321,\n",
    "        'disciplina':'Logica de programação 1'  \n",
    "    },\n",
    "    {\n",
    "        'nome':'Jânio',\n",
    "        'matricula':456,\n",
    "        'disciplina':'API'  \n",
    "    }\n",
    "]"
   ]
  },
  {
   "cell_type": "code",
   "execution_count": null,
   "id": "15c64e8f",
   "metadata": {},
   "outputs": [
    {
     "name": "stdout",
     "output_type": "stream",
     "text": [
      "bd1\n"
     ]
    }
   ],
   "source": [
    "print(professores[0]['disciplina'][1])\n"
   ]
  }
 ],
 "metadata": {
  "kernelspec": {
   "display_name": ".venv",
   "language": "python",
   "name": "python3"
  },
  "language_info": {
   "codemirror_mode": {
    "name": "ipython",
    "version": 3
   },
   "file_extension": ".py",
   "mimetype": "text/x-python",
   "name": "python",
   "nbconvert_exporter": "python",
   "pygments_lexer": "ipython3",
   "version": "3.12.10"
  }
 },
 "nbformat": 4,
 "nbformat_minor": 5
}
